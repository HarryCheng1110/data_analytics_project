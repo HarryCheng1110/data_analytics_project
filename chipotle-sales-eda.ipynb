{
 "cells": [
  {
   "cell_type": "code",
   "execution_count": 1,
   "id": "404c66cd",
   "metadata": {
    "_cell_guid": "b1076dfc-b9ad-4769-8c92-a6c4dae69d19",
    "_uuid": "8f2839f25d086af736a60e9eeb907d3b93b6e0e5",
    "execution": {
     "iopub.execute_input": "2021-07-31T02:49:37.570207Z",
     "iopub.status.busy": "2021-07-31T02:49:37.569470Z",
     "iopub.status.idle": "2021-07-31T02:49:37.584813Z",
     "shell.execute_reply": "2021-07-31T02:49:37.584045Z",
     "shell.execute_reply.started": "2021-07-31T02:22:06.797370Z"
    },
    "papermill": {
     "duration": 0.05322,
     "end_time": "2021-07-31T02:49:37.584975",
     "exception": false,
     "start_time": "2021-07-31T02:49:37.531755",
     "status": "completed"
    },
    "tags": []
   },
   "outputs": [
    {
     "name": "stdout",
     "output_type": "stream",
     "text": [
      "/kaggle/input/chipotle/chipotle.tsv\n"
     ]
    }
   ],
   "source": [
    "# This Python 3 environment comes with many helpful analytics libraries installed\n",
    "# It is defined by the kaggle/python Docker image: https://github.com/kaggle/docker-python\n",
    "# For example, here's several helpful packages to load\n",
    "\n",
    "import numpy as np # linear algebra\n",
    "import pandas as pd # data processing, CSV file I/O (e.g. pd.read_csv)\n",
    "\n",
    "# Input data files are available in the read-only \"../input/\" directory\n",
    "# For example, running this (by clicking run or pressing Shift+Enter) will list all files under the input directory\n",
    "\n",
    "import os\n",
    "for dirname, _, filenames in os.walk('/kaggle/input'):\n",
    "    for filename in filenames:\n",
    "        print(os.path.join(dirname, filename))\n",
    "\n",
    "# You can write up to 20GB to the current directory (/kaggle/working/) that gets preserved as output when you create a version using \"Save & Run All\" \n",
    "# You can also write temporary files to /kaggle/temp/, but they won't be saved outside of the current session"
   ]
  },
  {
   "cell_type": "markdown",
   "id": "b41b9148",
   "metadata": {
    "papermill": {
     "duration": 0.02522,
     "end_time": "2021-07-31T02:49:37.635438",
     "exception": false,
     "start_time": "2021-07-31T02:49:37.610218",
     "status": "completed"
    },
    "tags": []
   },
   "source": [
    "In this notebook, I will explore the Chipotle sales data by analyzing and visualizing it with Python. I will follow the steps of taking a quick look as the data first. Then, modify the data a little so that it will be the form that suits our needs for plots and analytics. \n",
    "\n",
    "What I want to know from the sales of Chipotles are the price range of every single order, the best and worst selling items, and the popular side choices that come with the order. "
   ]
  },
  {
   "cell_type": "code",
   "execution_count": 2,
   "id": "77a5618f",
   "metadata": {
    "execution": {
     "iopub.execute_input": "2021-07-31T02:49:37.696179Z",
     "iopub.status.busy": "2021-07-31T02:49:37.695448Z",
     "iopub.status.idle": "2021-07-31T02:49:38.796117Z",
     "shell.execute_reply": "2021-07-31T02:49:38.796641Z",
     "shell.execute_reply.started": "2021-07-31T02:22:06.822929Z"
    },
    "papermill": {
     "duration": 1.132377,
     "end_time": "2021-07-31T02:49:38.796830",
     "exception": false,
     "start_time": "2021-07-31T02:49:37.664453",
     "status": "completed"
    },
    "tags": []
   },
   "outputs": [],
   "source": [
    "import matplotlib.pyplot as plt\n",
    "import seaborn as sns\n",
    "sns.set_style('darkgrid')"
   ]
  },
  {
   "cell_type": "code",
   "execution_count": 3,
   "id": "89412f6f",
   "metadata": {
    "execution": {
     "iopub.execute_input": "2021-07-31T02:49:38.850424Z",
     "iopub.status.busy": "2021-07-31T02:49:38.849779Z",
     "iopub.status.idle": "2021-07-31T02:49:38.876446Z",
     "shell.execute_reply": "2021-07-31T02:49:38.876952Z",
     "shell.execute_reply.started": "2021-07-31T02:22:07.858383Z"
    },
    "papermill": {
     "duration": 0.055059,
     "end_time": "2021-07-31T02:49:38.877135",
     "exception": false,
     "start_time": "2021-07-31T02:49:38.822076",
     "status": "completed"
    },
    "tags": []
   },
   "outputs": [],
   "source": [
    "df = pd.read_table('/kaggle/input/chipotle/chipotle.tsv')"
   ]
  },
  {
   "cell_type": "code",
   "execution_count": 4,
   "id": "b411a3eb",
   "metadata": {
    "execution": {
     "iopub.execute_input": "2021-07-31T02:49:38.930186Z",
     "iopub.status.busy": "2021-07-31T02:49:38.929498Z",
     "iopub.status.idle": "2021-07-31T02:49:38.955122Z",
     "shell.execute_reply": "2021-07-31T02:49:38.955723Z",
     "shell.execute_reply.started": "2021-07-31T02:22:07.890097Z"
    },
    "papermill": {
     "duration": 0.053566,
     "end_time": "2021-07-31T02:49:38.955894",
     "exception": false,
     "start_time": "2021-07-31T02:49:38.902328",
     "status": "completed"
    },
    "tags": []
   },
   "outputs": [
    {
     "data": {
      "text/html": [
       "<div>\n",
       "<style scoped>\n",
       "    .dataframe tbody tr th:only-of-type {\n",
       "        vertical-align: middle;\n",
       "    }\n",
       "\n",
       "    .dataframe tbody tr th {\n",
       "        vertical-align: top;\n",
       "    }\n",
       "\n",
       "    .dataframe thead th {\n",
       "        text-align: right;\n",
       "    }\n",
       "</style>\n",
       "<table border=\"1\" class=\"dataframe\">\n",
       "  <thead>\n",
       "    <tr style=\"text-align: right;\">\n",
       "      <th></th>\n",
       "      <th>order_id</th>\n",
       "      <th>quantity</th>\n",
       "      <th>item_name</th>\n",
       "      <th>choice_description</th>\n",
       "      <th>item_price</th>\n",
       "    </tr>\n",
       "  </thead>\n",
       "  <tbody>\n",
       "    <tr>\n",
       "      <th>0</th>\n",
       "      <td>1</td>\n",
       "      <td>1</td>\n",
       "      <td>Chips and Fresh Tomato Salsa</td>\n",
       "      <td>NaN</td>\n",
       "      <td>$2.39</td>\n",
       "    </tr>\n",
       "    <tr>\n",
       "      <th>1</th>\n",
       "      <td>1</td>\n",
       "      <td>1</td>\n",
       "      <td>Izze</td>\n",
       "      <td>[Clementine]</td>\n",
       "      <td>$3.39</td>\n",
       "    </tr>\n",
       "    <tr>\n",
       "      <th>2</th>\n",
       "      <td>1</td>\n",
       "      <td>1</td>\n",
       "      <td>Nantucket Nectar</td>\n",
       "      <td>[Apple]</td>\n",
       "      <td>$3.39</td>\n",
       "    </tr>\n",
       "    <tr>\n",
       "      <th>3</th>\n",
       "      <td>1</td>\n",
       "      <td>1</td>\n",
       "      <td>Chips and Tomatillo-Green Chili Salsa</td>\n",
       "      <td>NaN</td>\n",
       "      <td>$2.39</td>\n",
       "    </tr>\n",
       "    <tr>\n",
       "      <th>4</th>\n",
       "      <td>2</td>\n",
       "      <td>2</td>\n",
       "      <td>Chicken Bowl</td>\n",
       "      <td>[Tomatillo-Red Chili Salsa (Hot), [Black Beans...</td>\n",
       "      <td>$16.98</td>\n",
       "    </tr>\n",
       "  </tbody>\n",
       "</table>\n",
       "</div>"
      ],
      "text/plain": [
       "   order_id  quantity                              item_name  \\\n",
       "0         1         1           Chips and Fresh Tomato Salsa   \n",
       "1         1         1                                   Izze   \n",
       "2         1         1                       Nantucket Nectar   \n",
       "3         1         1  Chips and Tomatillo-Green Chili Salsa   \n",
       "4         2         2                           Chicken Bowl   \n",
       "\n",
       "                                  choice_description item_price  \n",
       "0                                                NaN     $2.39   \n",
       "1                                       [Clementine]     $3.39   \n",
       "2                                            [Apple]     $3.39   \n",
       "3                                                NaN     $2.39   \n",
       "4  [Tomatillo-Red Chili Salsa (Hot), [Black Beans...    $16.98   "
      ]
     },
     "execution_count": 4,
     "metadata": {},
     "output_type": "execute_result"
    }
   ],
   "source": [
    "df.head()"
   ]
  },
  {
   "cell_type": "code",
   "execution_count": 5,
   "id": "cce3d9c3",
   "metadata": {
    "execution": {
     "iopub.execute_input": "2021-07-31T02:49:39.009136Z",
     "iopub.status.busy": "2021-07-31T02:49:39.008503Z",
     "iopub.status.idle": "2021-07-31T02:49:39.013293Z",
     "shell.execute_reply": "2021-07-31T02:49:39.013812Z",
     "shell.execute_reply.started": "2021-07-31T02:22:07.917387Z"
    },
    "papermill": {
     "duration": 0.032966,
     "end_time": "2021-07-31T02:49:39.013978",
     "exception": false,
     "start_time": "2021-07-31T02:49:38.981012",
     "status": "completed"
    },
    "tags": []
   },
   "outputs": [
    {
     "data": {
      "text/plain": [
       "(4622, 5)"
      ]
     },
     "execution_count": 5,
     "metadata": {},
     "output_type": "execute_result"
    }
   ],
   "source": [
    "df.shape"
   ]
  },
  {
   "cell_type": "markdown",
   "id": "8d6b9559",
   "metadata": {
    "papermill": {
     "duration": 0.027748,
     "end_time": "2021-07-31T02:49:39.067764",
     "exception": false,
     "start_time": "2021-07-31T02:49:39.040016",
     "status": "completed"
    },
    "tags": []
   },
   "source": [
    "As you can see above, the dataset comes with 4,622 rows and 5 columns. Each row represents one item in an order. The columns include order id, quantity of the item, item name, side choice that comes with the item, and the item price. Notice that the item price column is already the total price of that specific item. So, we do not need to multiply quantity with price to get the total price. "
   ]
  },
  {
   "cell_type": "code",
   "execution_count": 6,
   "id": "a8542f67",
   "metadata": {
    "execution": {
     "iopub.execute_input": "2021-07-31T02:49:39.123040Z",
     "iopub.status.busy": "2021-07-31T02:49:39.122395Z",
     "iopub.status.idle": "2021-07-31T02:49:39.143923Z",
     "shell.execute_reply": "2021-07-31T02:49:39.144463Z",
     "shell.execute_reply.started": "2021-07-31T02:22:07.924139Z"
    },
    "papermill": {
     "duration": 0.050576,
     "end_time": "2021-07-31T02:49:39.144662",
     "exception": false,
     "start_time": "2021-07-31T02:49:39.094086",
     "status": "completed"
    },
    "tags": []
   },
   "outputs": [
    {
     "name": "stdout",
     "output_type": "stream",
     "text": [
      "<class 'pandas.core.frame.DataFrame'>\n",
      "RangeIndex: 4622 entries, 0 to 4621\n",
      "Data columns (total 5 columns):\n",
      " #   Column              Non-Null Count  Dtype \n",
      "---  ------              --------------  ----- \n",
      " 0   order_id            4622 non-null   int64 \n",
      " 1   quantity            4622 non-null   int64 \n",
      " 2   item_name           4622 non-null   object\n",
      " 3   choice_description  3376 non-null   object\n",
      " 4   item_price          4622 non-null   object\n",
      "dtypes: int64(2), object(3)\n",
      "memory usage: 180.7+ KB\n"
     ]
    }
   ],
   "source": [
    "df.info()"
   ]
  },
  {
   "cell_type": "markdown",
   "id": "b6cebf5a",
   "metadata": {
    "papermill": {
     "duration": 0.028067,
     "end_time": "2021-07-31T02:49:39.198571",
     "exception": false,
     "start_time": "2021-07-31T02:49:39.170504",
     "status": "completed"
    },
    "tags": []
   },
   "source": [
    "Here we can get the data type of each feature. For the further analysis, we need to change the type of item price from string to numerical."
   ]
  },
  {
   "cell_type": "code",
   "execution_count": 7,
   "id": "d8ed5be2",
   "metadata": {
    "execution": {
     "iopub.execute_input": "2021-07-31T02:49:39.256885Z",
     "iopub.status.busy": "2021-07-31T02:49:39.255847Z",
     "iopub.status.idle": "2021-07-31T02:49:39.271444Z",
     "shell.execute_reply": "2021-07-31T02:49:39.272008Z",
     "shell.execute_reply.started": "2021-07-31T02:22:07.953987Z"
    },
    "papermill": {
     "duration": 0.046555,
     "end_time": "2021-07-31T02:49:39.272196",
     "exception": false,
     "start_time": "2021-07-31T02:49:39.225641",
     "status": "completed"
    },
    "tags": []
   },
   "outputs": [],
   "source": [
    "# get rid of $ sign and convert the column to float\n",
    "df['item_price'] = df['item_price'].str.split('$').str.get(1)\n",
    "df['item_price'] = df['item_price'].astype('float')"
   ]
  },
  {
   "cell_type": "code",
   "execution_count": 8,
   "id": "82b3e0f1",
   "metadata": {
    "execution": {
     "iopub.execute_input": "2021-07-31T02:49:39.328399Z",
     "iopub.status.busy": "2021-07-31T02:49:39.327404Z",
     "iopub.status.idle": "2021-07-31T02:49:39.333292Z",
     "shell.execute_reply": "2021-07-31T02:49:39.334044Z",
     "shell.execute_reply.started": "2021-07-31T02:22:07.974093Z"
    },
    "papermill": {
     "duration": 0.036001,
     "end_time": "2021-07-31T02:49:39.334268",
     "exception": false,
     "start_time": "2021-07-31T02:49:39.298267",
     "status": "completed"
    },
    "tags": []
   },
   "outputs": [
    {
     "name": "stdout",
     "output_type": "stream",
     "text": [
      "The total revenue is $34500.16\n"
     ]
    }
   ],
   "source": [
    "total_revenue = df['item_price'].sum()\n",
    "print('The total revenue is ${}'.format(total_revenue))"
   ]
  },
  {
   "cell_type": "markdown",
   "id": "43181f44",
   "metadata": {
    "papermill": {
     "duration": 0.025954,
     "end_time": "2021-07-31T02:49:39.387113",
     "exception": false,
     "start_time": "2021-07-31T02:49:39.361159",
     "status": "completed"
    },
    "tags": []
   },
   "source": [
    "Add up all the prices to get the total revenue, at least for this small dataset."
   ]
  },
  {
   "cell_type": "markdown",
   "id": "1e930fdf",
   "metadata": {
    "papermill": {
     "duration": 0.025771,
     "end_time": "2021-07-31T02:49:39.439089",
     "exception": false,
     "start_time": "2021-07-31T02:49:39.413318",
     "status": "completed"
    },
    "tags": []
   },
   "source": [
    "# Order Price Range"
   ]
  },
  {
   "cell_type": "code",
   "execution_count": 9,
   "id": "dd63bf42",
   "metadata": {
    "execution": {
     "iopub.execute_input": "2021-07-31T02:49:39.494799Z",
     "iopub.status.busy": "2021-07-31T02:49:39.494152Z",
     "iopub.status.idle": "2021-07-31T02:49:39.510137Z",
     "shell.execute_reply": "2021-07-31T02:49:39.509460Z",
     "shell.execute_reply.started": "2021-07-31T02:22:07.982575Z"
    },
    "papermill": {
     "duration": 0.045026,
     "end_time": "2021-07-31T02:49:39.510278",
     "exception": false,
     "start_time": "2021-07-31T02:49:39.465252",
     "status": "completed"
    },
    "tags": []
   },
   "outputs": [
    {
     "data": {
      "text/html": [
       "<div>\n",
       "<style scoped>\n",
       "    .dataframe tbody tr th:only-of-type {\n",
       "        vertical-align: middle;\n",
       "    }\n",
       "\n",
       "    .dataframe tbody tr th {\n",
       "        vertical-align: top;\n",
       "    }\n",
       "\n",
       "    .dataframe thead th {\n",
       "        text-align: right;\n",
       "    }\n",
       "</style>\n",
       "<table border=\"1\" class=\"dataframe\">\n",
       "  <thead>\n",
       "    <tr style=\"text-align: right;\">\n",
       "      <th></th>\n",
       "      <th>order_id</th>\n",
       "      <th>item_price</th>\n",
       "    </tr>\n",
       "  </thead>\n",
       "  <tbody>\n",
       "    <tr>\n",
       "      <th>0</th>\n",
       "      <td>1</td>\n",
       "      <td>11.56</td>\n",
       "    </tr>\n",
       "    <tr>\n",
       "      <th>1</th>\n",
       "      <td>2</td>\n",
       "      <td>16.98</td>\n",
       "    </tr>\n",
       "    <tr>\n",
       "      <th>2</th>\n",
       "      <td>3</td>\n",
       "      <td>12.67</td>\n",
       "    </tr>\n",
       "    <tr>\n",
       "      <th>3</th>\n",
       "      <td>4</td>\n",
       "      <td>21.00</td>\n",
       "    </tr>\n",
       "    <tr>\n",
       "      <th>4</th>\n",
       "      <td>5</td>\n",
       "      <td>13.70</td>\n",
       "    </tr>\n",
       "  </tbody>\n",
       "</table>\n",
       "</div>"
      ],
      "text/plain": [
       "   order_id  item_price\n",
       "0         1       11.56\n",
       "1         2       16.98\n",
       "2         3       12.67\n",
       "3         4       21.00\n",
       "4         5       13.70"
      ]
     },
     "execution_count": 9,
     "metadata": {},
     "output_type": "execute_result"
    }
   ],
   "source": [
    "order_price = df.groupby('order_id')['item_price'].sum().reset_index()\n",
    "order_price.head()"
   ]
  },
  {
   "cell_type": "markdown",
   "id": "dbb02e45",
   "metadata": {
    "papermill": {
     "duration": 0.026866,
     "end_time": "2021-07-31T02:49:39.563999",
     "exception": false,
     "start_time": "2021-07-31T02:49:39.537133",
     "status": "completed"
    },
    "tags": []
   },
   "source": [
    "I used groupby method to get another dataframe that consists of total price for each order. And below we can see the statistics of the order prices."
   ]
  },
  {
   "cell_type": "code",
   "execution_count": 10,
   "id": "2f0df9dc",
   "metadata": {
    "execution": {
     "iopub.execute_input": "2021-07-31T02:49:39.624047Z",
     "iopub.status.busy": "2021-07-31T02:49:39.623390Z",
     "iopub.status.idle": "2021-07-31T02:49:39.626643Z",
     "shell.execute_reply": "2021-07-31T02:49:39.627174Z",
     "shell.execute_reply.started": "2021-07-31T02:22:08.005855Z"
    },
    "papermill": {
     "duration": 0.0367,
     "end_time": "2021-07-31T02:49:39.627339",
     "exception": false,
     "start_time": "2021-07-31T02:49:39.590639",
     "status": "completed"
    },
    "tags": []
   },
   "outputs": [
    {
     "name": "stdout",
     "output_type": "stream",
     "text": [
      "The highest single order price: $205.25\n",
      "The lowest single order price: $10.08\n",
      "The average single order price: $18.81\n",
      "The median of single order price: $16.20\n"
     ]
    }
   ],
   "source": [
    "print('The highest single order price: ${}'.format(order_price['item_price'].max()))\n",
    "print('The lowest single order price: ${}'.format(order_price['item_price'].min()))\n",
    "print('The average single order price: ${:.2f}'.format(order_price['item_price'].mean()))\n",
    "print('The median of single order price: ${:.2f}'.format(order_price['item_price'].median()))"
   ]
  },
  {
   "cell_type": "code",
   "execution_count": 11,
   "id": "34cf9ceb",
   "metadata": {
    "execution": {
     "iopub.execute_input": "2021-07-31T02:49:39.686660Z",
     "iopub.status.busy": "2021-07-31T02:49:39.685999Z",
     "iopub.status.idle": "2021-07-31T02:49:39.931711Z",
     "shell.execute_reply": "2021-07-31T02:49:39.932223Z",
     "shell.execute_reply.started": "2021-07-31T02:22:08.015998Z"
    },
    "papermill": {
     "duration": 0.277477,
     "end_time": "2021-07-31T02:49:39.932392",
     "exception": false,
     "start_time": "2021-07-31T02:49:39.654915",
     "status": "completed"
    },
    "tags": []
   },
   "outputs": [
    {
     "data": {
      "image/png": "[encoded data removed]",
      "text/plain": [
       "<Figure size 720x360 with 1 Axes>"
      ]
     },
     "metadata": {},
     "output_type": "display_data"
    }
   ],
   "source": [
    "plt.figure(figsize=(10,5))\n",
    "sns.boxplot(data=order_price, x='item_price');"
   ]
  },
  {
   "cell_type": "code",
   "execution_count": 12,
   "id": "750339a0",
   "metadata": {
    "execution": {
     "iopub.execute_input": "2021-07-31T02:49:40.020177Z",
     "iopub.status.busy": "2021-07-31T02:49:40.019484Z",
     "iopub.status.idle": "2021-07-31T02:49:40.389207Z",
     "shell.execute_reply": "2021-07-31T02:49:40.388307Z",
     "shell.execute_reply.started": "2021-07-31T02:22:08.263940Z"
    },
    "papermill": {
     "duration": 0.427894,
     "end_time": "2021-07-31T02:49:40.389404",
     "exception": false,
     "start_time": "2021-07-31T02:49:39.961510",
     "status": "completed"
    },
    "tags": []
   },
   "outputs": [
    {
     "data": {
      "image/png": "[encoded data removed]",
      "text/plain": [
       "<Figure size 720x360 with 1 Axes>"
      ]
     },
     "metadata": {},
     "output_type": "display_data"
    }
   ],
   "source": [
    "plt.figure(figsize=(10,5));\n",
    "plt.hist(order_price['item_price'], bins=70);\n",
    "plt.xlabel('single order price');\n",
    "plt.ylabel('count');\n",
    "plt.title('Distribution of Single Order Price');"
   ]
  },
  {
   "cell_type": "markdown",
   "id": "05e843d4",
   "metadata": {
    "papermill": {
     "duration": 0.028182,
     "end_time": "2021-07-31T02:49:40.446346",
     "exception": false,
     "start_time": "2021-07-31T02:49:40.418164",
     "status": "completed"
    },
    "tags": []
   },
   "source": [
    "With the box plot and bar plot above, we know that most orders were in the range of 15 to 30 dollars. Only a few orders exceeded over 50 or even 100 dollars."
   ]
  },
  {
   "cell_type": "markdown",
   "id": "23588bb3",
   "metadata": {
    "papermill": {
     "duration": 0.028297,
     "end_time": "2021-07-31T02:49:40.503759",
     "exception": false,
     "start_time": "2021-07-31T02:49:40.475462",
     "status": "completed"
    },
    "tags": []
   },
   "source": [
    "# Best and Worst Selling Products"
   ]
  },
  {
   "cell_type": "code",
   "execution_count": 13,
   "id": "ef7a8cc0",
   "metadata": {
    "execution": {
     "iopub.execute_input": "2021-07-31T02:49:40.569263Z",
     "iopub.status.busy": "2021-07-31T02:49:40.566296Z",
     "iopub.status.idle": "2021-07-31T02:49:40.572799Z",
     "shell.execute_reply": "2021-07-31T02:49:40.572138Z",
     "shell.execute_reply.started": "2021-07-31T02:22:08.655807Z"
    },
    "papermill": {
     "duration": 0.040682,
     "end_time": "2021-07-31T02:49:40.572939",
     "exception": false,
     "start_time": "2021-07-31T02:49:40.532257",
     "status": "completed"
    },
    "tags": []
   },
   "outputs": [],
   "source": [
    "item_quantity = df.groupby('item_name')['quantity'].sum().reset_index().sort_values(by='quantity', ascending=False)"
   ]
  },
  {
   "cell_type": "code",
   "execution_count": 14,
   "id": "879dd3f8",
   "metadata": {
    "execution": {
     "iopub.execute_input": "2021-07-31T02:49:40.639325Z",
     "iopub.status.busy": "2021-07-31T02:49:40.638672Z",
     "iopub.status.idle": "2021-07-31T02:49:40.642296Z",
     "shell.execute_reply": "2021-07-31T02:49:40.641771Z",
     "shell.execute_reply.started": "2021-07-31T02:22:08.667299Z"
    },
    "papermill": {
     "duration": 0.040981,
     "end_time": "2021-07-31T02:49:40.642456",
     "exception": false,
     "start_time": "2021-07-31T02:49:40.601475",
     "status": "completed"
    },
    "tags": []
   },
   "outputs": [
    {
     "data": {
      "text/html": [
       "<div>\n",
       "<style scoped>\n",
       "    .dataframe tbody tr th:only-of-type {\n",
       "        vertical-align: middle;\n",
       "    }\n",
       "\n",
       "    .dataframe tbody tr th {\n",
       "        vertical-align: top;\n",
       "    }\n",
       "\n",
       "    .dataframe thead th {\n",
       "        text-align: right;\n",
       "    }\n",
       "</style>\n",
       "<table border=\"1\" class=\"dataframe\">\n",
       "  <thead>\n",
       "    <tr style=\"text-align: right;\">\n",
       "      <th></th>\n",
       "      <th>item_name</th>\n",
       "      <th>quantity</th>\n",
       "    </tr>\n",
       "  </thead>\n",
       "  <tbody>\n",
       "    <tr>\n",
       "      <th>17</th>\n",
       "      <td>Chicken Bowl</td>\n",
       "      <td>761</td>\n",
       "    </tr>\n",
       "    <tr>\n",
       "      <th>18</th>\n",
       "      <td>Chicken Burrito</td>\n",
       "      <td>591</td>\n",
       "    </tr>\n",
       "    <tr>\n",
       "      <th>25</th>\n",
       "      <td>Chips and Guacamole</td>\n",
       "      <td>506</td>\n",
       "    </tr>\n",
       "    <tr>\n",
       "      <th>39</th>\n",
       "      <td>Steak Burrito</td>\n",
       "      <td>386</td>\n",
       "    </tr>\n",
       "    <tr>\n",
       "      <th>10</th>\n",
       "      <td>Canned Soft Drink</td>\n",
       "      <td>351</td>\n",
       "    </tr>\n",
       "  </tbody>\n",
       "</table>\n",
       "</div>"
      ],
      "text/plain": [
       "              item_name  quantity\n",
       "17         Chicken Bowl       761\n",
       "18      Chicken Burrito       591\n",
       "25  Chips and Guacamole       506\n",
       "39        Steak Burrito       386\n",
       "10    Canned Soft Drink       351"
      ]
     },
     "execution_count": 14,
     "metadata": {},
     "output_type": "execute_result"
    }
   ],
   "source": [
    "item_quantity.head()"
   ]
  },
  {
   "cell_type": "markdown",
   "id": "c849365a",
   "metadata": {
    "papermill": {
     "duration": 0.029784,
     "end_time": "2021-07-31T02:49:40.702033",
     "exception": false,
     "start_time": "2021-07-31T02:49:40.672249",
     "status": "completed"
    },
    "tags": []
   },
   "source": [
    "Again, I used groupby to get the total quantity for each item and sort them descendingly."
   ]
  },
  {
   "cell_type": "code",
   "execution_count": 15,
   "id": "18aa764a",
   "metadata": {
    "execution": {
     "iopub.execute_input": "2021-07-31T02:49:40.772199Z",
     "iopub.status.busy": "2021-07-31T02:49:40.771436Z",
     "iopub.status.idle": "2021-07-31T02:49:41.059609Z",
     "shell.execute_reply": "2021-07-31T02:49:41.060144Z",
     "shell.execute_reply.started": "2021-07-31T02:22:08.680312Z"
    },
    "papermill": {
     "duration": 0.328577,
     "end_time": "2021-07-31T02:49:41.060317",
     "exception": false,
     "start_time": "2021-07-31T02:49:40.731740",
     "status": "completed"
    },
    "tags": []
   },
   "outputs": [
    {
     "data": {
      "image/png": "[encoded data removed]",
      "text/plain": [
       "<Figure size 432x288 with 1 Axes>"
      ]
     },
     "metadata": {},
     "output_type": "display_data"
    }
   ],
   "source": [
    "sns.barplot(data=item_quantity.iloc[:10], x='quantity', y='item_name');\n",
    "plt.title('Top 10 Best Selling Items');\n",
    "plt.ylabel('');"
   ]
  },
  {
   "cell_type": "markdown",
   "id": "03e8a39d",
   "metadata": {
    "papermill": {
     "duration": 0.030827,
     "end_time": "2021-07-31T02:49:41.122133",
     "exception": false,
     "start_time": "2021-07-31T02:49:41.091306",
     "status": "completed"
    },
    "tags": []
   },
   "source": [
    "The most popular item is chicken bowl, which got ordered for more than 700 times."
   ]
  },
  {
   "cell_type": "code",
   "execution_count": 16,
   "id": "80c8d4a4",
   "metadata": {
    "execution": {
     "iopub.execute_input": "2021-07-31T02:49:41.186940Z",
     "iopub.status.busy": "2021-07-31T02:49:41.185867Z",
     "iopub.status.idle": "2021-07-31T02:49:41.471860Z",
     "shell.execute_reply": "2021-07-31T02:49:41.472405Z",
     "shell.execute_reply.started": "2021-07-31T02:22:08.990724Z"
    },
    "papermill": {
     "duration": 0.320098,
     "end_time": "2021-07-31T02:49:41.472595",
     "exception": false,
     "start_time": "2021-07-31T02:49:41.152497",
     "status": "completed"
    },
    "tags": []
   },
   "outputs": [
    {
     "data": {
      "image/png": "[encoded data removed]",
      "text/plain": [
       "<Figure size 432x288 with 1 Axes>"
      ]
     },
     "metadata": {},
     "output_type": "display_data"
    }
   ],
   "source": [
    "sns.barplot(data=item_quantity.iloc[-10:], x='quantity', y='item_name');\n",
    "plt.title('Top 10 Worst Selling Items');\n",
    "plt.ylabel('');"
   ]
  },
  {
   "cell_type": "markdown",
   "id": "050687dc",
   "metadata": {
    "papermill": {
     "duration": 0.031787,
     "end_time": "2021-07-31T02:49:41.536822",
     "exception": false,
     "start_time": "2021-07-31T02:49:41.505035",
     "status": "completed"
    },
    "tags": []
   },
   "source": [
    "Carnitas salad is the least popular item out there, only got ordered once."
   ]
  },
  {
   "cell_type": "markdown",
   "id": "dbe37aef",
   "metadata": {
    "papermill": {
     "duration": 0.031461,
     "end_time": "2021-07-31T02:49:41.600924",
     "exception": false,
     "start_time": "2021-07-31T02:49:41.569463",
     "status": "completed"
    },
    "tags": []
   },
   "source": [
    "# Most popular side choice for the order of chicken bowl"
   ]
  },
  {
   "cell_type": "code",
   "execution_count": 17,
   "id": "125a7e83",
   "metadata": {
    "execution": {
     "iopub.execute_input": "2021-07-31T02:49:41.668813Z",
     "iopub.status.busy": "2021-07-31T02:49:41.667781Z",
     "iopub.status.idle": "2021-07-31T02:49:41.684983Z",
     "shell.execute_reply": "2021-07-31T02:49:41.685509Z",
     "shell.execute_reply.started": "2021-07-31T02:24:27.298752Z"
    },
    "papermill": {
     "duration": 0.053074,
     "end_time": "2021-07-31T02:49:41.685702",
     "exception": false,
     "start_time": "2021-07-31T02:49:41.632628",
     "status": "completed"
    },
    "tags": []
   },
   "outputs": [
    {
     "name": "stderr",
     "output_type": "stream",
     "text": [
      "/opt/conda/lib/python3.7/site-packages/pandas/core/indexing.py:1676: SettingWithCopyWarning: \n",
      "A value is trying to be set on a copy of a slice from a DataFrame.\n",
      "Try using .loc[row_indexer,col_indexer] = value instead\n",
      "\n",
      "See the caveats in the documentation: https://pandas.pydata.org/pandas-docs/stable/user_guide/indexing.html#returning-a-view-versus-a-copy\n",
      "  self._setitem_single_column(ilocs[0], value, pi)\n"
     ]
    }
   ],
   "source": [
    "chicken_bowl = df[df['item_name'] == 'Chicken Bowl']\n",
    "chicken_bowl.loc[:, 'choice_description'] = chicken_bowl['choice_description'].str.replace('[', '', regex=True)\n",
    "chicken_bowl.loc[:, 'choice_description'] = chicken_bowl['choice_description'].str.replace(']', '', regex=True)"
   ]
  },
  {
   "cell_type": "markdown",
   "id": "f8fdc584",
   "metadata": {
    "papermill": {
     "duration": 0.031207,
     "end_time": "2021-07-31T02:49:41.748600",
     "exception": false,
     "start_time": "2021-07-31T02:49:41.717393",
     "status": "completed"
    },
    "tags": []
   },
   "source": [
    "Here I want to focus on what sides people tended to choose along with the most popular item chicken bowl. I would like to count the number of occurrances for side choices in chicken bowl to get my answer.\n",
    "\n",
    "Because the choice_description column is in string type and contains \"[\" and \"]\", I first removed them by using replace method. "
   ]
  },
  {
   "cell_type": "code",
   "execution_count": 18,
   "id": "68dbb0f5",
   "metadata": {
    "execution": {
     "iopub.execute_input": "2021-07-31T02:49:41.820596Z",
     "iopub.status.busy": "2021-07-31T02:49:41.819890Z",
     "iopub.status.idle": "2021-07-31T02:49:41.822832Z",
     "shell.execute_reply": "2021-07-31T02:49:41.823291Z",
     "shell.execute_reply.started": "2021-07-31T02:38:24.812751Z"
    },
    "papermill": {
     "duration": 0.042941,
     "end_time": "2021-07-31T02:49:41.823465",
     "exception": false,
     "start_time": "2021-07-31T02:49:41.780524",
     "status": "completed"
    },
    "tags": []
   },
   "outputs": [],
   "source": [
    "chicken_bowl.loc[:, 'choice_description'] = chicken_bowl['choice_description'].str.split(', ')"
   ]
  },
  {
   "cell_type": "markdown",
   "id": "f45de7de",
   "metadata": {
    "papermill": {
     "duration": 0.031215,
     "end_time": "2021-07-31T02:49:41.886336",
     "exception": false,
     "start_time": "2021-07-31T02:49:41.855121",
     "status": "completed"
    },
    "tags": []
   },
   "source": [
    "Then, once choice_description only contains side choices seperated by comma, I splitted them so that each of them is stored in list now.\n",
    "\n",
    "Finally, a distionary is created to store the occurraces after running a for loop for counting."
   ]
  },
  {
   "cell_type": "code",
   "execution_count": 19,
   "id": "9305b55f",
   "metadata": {
    "execution": {
     "iopub.execute_input": "2021-07-31T02:49:41.959512Z",
     "iopub.status.busy": "2021-07-31T02:49:41.958520Z",
     "iopub.status.idle": "2021-07-31T02:49:41.963049Z",
     "shell.execute_reply": "2021-07-31T02:49:41.962390Z",
     "shell.execute_reply.started": "2021-07-31T02:22:09.323172Z"
    },
    "papermill": {
     "duration": 0.044822,
     "end_time": "2021-07-31T02:49:41.963191",
     "exception": false,
     "start_time": "2021-07-31T02:49:41.918369",
     "status": "completed"
    },
    "tags": []
   },
   "outputs": [
    {
     "data": {
      "text/plain": [
       "{'Tomatillo-Red Chili Salsa (Hot)': 65,\n",
       " 'Black Beans': 386,\n",
       " 'Rice': 684,\n",
       " 'Cheese': 549,\n",
       " 'Sour Cream': 427,\n",
       " 'Fresh Tomato Salsa (Mild)': 83,\n",
       " 'Guacamole': 282,\n",
       " 'Lettuce': 443,\n",
       " 'Fresh Tomato Salsa': 324,\n",
       " 'Fajita Vegetables': 209,\n",
       " 'Tomatillo Red Chili Salsa': 61,\n",
       " 'Roasted Chili Corn Salsa (Medium)': 65,\n",
       " 'Pinto Beans': 120,\n",
       " 'Fajita Veggies': 87,\n",
       " 'Roasted Chili Corn Salsa': 106,\n",
       " 'Tomatillo Green Chili Salsa': 65,\n",
       " 'Tomatillo-Green Chili Salsa (Medium)': 21,\n",
       " 'Fresh Tomato (Mild)': 4,\n",
       " 'White Rice': 2}"
      ]
     },
     "execution_count": 19,
     "metadata": {},
     "output_type": "execute_result"
    }
   ],
   "source": [
    "choices_dict = {}\n",
    "\n",
    "for choices in chicken_bowl['choice_description']:\n",
    "    for choice in choices:\n",
    "        if choice not in choices_dict:\n",
    "            choices_dict[choice] = 0\n",
    "        choices_dict[choice] += 1\n",
    "\n",
    "choices_dict"
   ]
  },
  {
   "cell_type": "code",
   "execution_count": 20,
   "id": "d75bbba0",
   "metadata": {
    "execution": {
     "iopub.execute_input": "2021-07-31T02:49:42.041849Z",
     "iopub.status.busy": "2021-07-31T02:49:42.040788Z",
     "iopub.status.idle": "2021-07-31T02:49:42.047901Z",
     "shell.execute_reply": "2021-07-31T02:49:42.046998Z",
     "shell.execute_reply.started": "2021-07-31T02:22:09.342407Z"
    },
    "papermill": {
     "duration": 0.052707,
     "end_time": "2021-07-31T02:49:42.048092",
     "exception": false,
     "start_time": "2021-07-31T02:49:41.995385",
     "status": "completed"
    },
    "tags": []
   },
   "outputs": [
    {
     "data": {
      "text/html": [
       "<div>\n",
       "<style scoped>\n",
       "    .dataframe tbody tr th:only-of-type {\n",
       "        vertical-align: middle;\n",
       "    }\n",
       "\n",
       "    .dataframe tbody tr th {\n",
       "        vertical-align: top;\n",
       "    }\n",
       "\n",
       "    .dataframe thead th {\n",
       "        text-align: right;\n",
       "    }\n",
       "</style>\n",
       "<table border=\"1\" class=\"dataframe\">\n",
       "  <thead>\n",
       "    <tr style=\"text-align: right;\">\n",
       "      <th></th>\n",
       "      <th>choice</th>\n",
       "      <th>occurances</th>\n",
       "    </tr>\n",
       "  </thead>\n",
       "  <tbody>\n",
       "    <tr>\n",
       "      <th>2</th>\n",
       "      <td>Rice</td>\n",
       "      <td>684</td>\n",
       "    </tr>\n",
       "    <tr>\n",
       "      <th>3</th>\n",
       "      <td>Cheese</td>\n",
       "      <td>549</td>\n",
       "    </tr>\n",
       "    <tr>\n",
       "      <th>7</th>\n",
       "      <td>Lettuce</td>\n",
       "      <td>443</td>\n",
       "    </tr>\n",
       "    <tr>\n",
       "      <th>4</th>\n",
       "      <td>Sour Cream</td>\n",
       "      <td>427</td>\n",
       "    </tr>\n",
       "    <tr>\n",
       "      <th>1</th>\n",
       "      <td>Black Beans</td>\n",
       "      <td>386</td>\n",
       "    </tr>\n",
       "    <tr>\n",
       "      <th>8</th>\n",
       "      <td>Fresh Tomato Salsa</td>\n",
       "      <td>324</td>\n",
       "    </tr>\n",
       "    <tr>\n",
       "      <th>6</th>\n",
       "      <td>Guacamole</td>\n",
       "      <td>282</td>\n",
       "    </tr>\n",
       "    <tr>\n",
       "      <th>9</th>\n",
       "      <td>Fajita Vegetables</td>\n",
       "      <td>209</td>\n",
       "    </tr>\n",
       "    <tr>\n",
       "      <th>12</th>\n",
       "      <td>Pinto Beans</td>\n",
       "      <td>120</td>\n",
       "    </tr>\n",
       "    <tr>\n",
       "      <th>14</th>\n",
       "      <td>Roasted Chili Corn Salsa</td>\n",
       "      <td>106</td>\n",
       "    </tr>\n",
       "    <tr>\n",
       "      <th>13</th>\n",
       "      <td>Fajita Veggies</td>\n",
       "      <td>87</td>\n",
       "    </tr>\n",
       "    <tr>\n",
       "      <th>5</th>\n",
       "      <td>Fresh Tomato Salsa (Mild)</td>\n",
       "      <td>83</td>\n",
       "    </tr>\n",
       "    <tr>\n",
       "      <th>15</th>\n",
       "      <td>Tomatillo Green Chili Salsa</td>\n",
       "      <td>65</td>\n",
       "    </tr>\n",
       "    <tr>\n",
       "      <th>0</th>\n",
       "      <td>Tomatillo-Red Chili Salsa (Hot)</td>\n",
       "      <td>65</td>\n",
       "    </tr>\n",
       "    <tr>\n",
       "      <th>11</th>\n",
       "      <td>Roasted Chili Corn Salsa (Medium)</td>\n",
       "      <td>65</td>\n",
       "    </tr>\n",
       "    <tr>\n",
       "      <th>10</th>\n",
       "      <td>Tomatillo Red Chili Salsa</td>\n",
       "      <td>61</td>\n",
       "    </tr>\n",
       "    <tr>\n",
       "      <th>16</th>\n",
       "      <td>Tomatillo-Green Chili Salsa (Medium)</td>\n",
       "      <td>21</td>\n",
       "    </tr>\n",
       "    <tr>\n",
       "      <th>17</th>\n",
       "      <td>Fresh Tomato (Mild)</td>\n",
       "      <td>4</td>\n",
       "    </tr>\n",
       "    <tr>\n",
       "      <th>18</th>\n",
       "      <td>White Rice</td>\n",
       "      <td>2</td>\n",
       "    </tr>\n",
       "  </tbody>\n",
       "</table>\n",
       "</div>"
      ],
      "text/plain": [
       "                                  choice  occurances\n",
       "2                                   Rice         684\n",
       "3                                 Cheese         549\n",
       "7                                Lettuce         443\n",
       "4                             Sour Cream         427\n",
       "1                            Black Beans         386\n",
       "8                     Fresh Tomato Salsa         324\n",
       "6                              Guacamole         282\n",
       "9                      Fajita Vegetables         209\n",
       "12                           Pinto Beans         120\n",
       "14              Roasted Chili Corn Salsa         106\n",
       "13                        Fajita Veggies          87\n",
       "5              Fresh Tomato Salsa (Mild)          83\n",
       "15           Tomatillo Green Chili Salsa          65\n",
       "0        Tomatillo-Red Chili Salsa (Hot)          65\n",
       "11     Roasted Chili Corn Salsa (Medium)          65\n",
       "10             Tomatillo Red Chili Salsa          61\n",
       "16  Tomatillo-Green Chili Salsa (Medium)          21\n",
       "17                   Fresh Tomato (Mild)           4\n",
       "18                            White Rice           2"
      ]
     },
     "execution_count": 20,
     "metadata": {},
     "output_type": "execute_result"
    }
   ],
   "source": [
    "choices_df = pd.DataFrame(choices_dict.items(), columns=['choice', 'occurances'])\n",
    "choices_df = choices_df.sort_values('occurances', ascending=False)\n",
    "\n",
    "choices_df"
   ]
  },
  {
   "cell_type": "code",
   "execution_count": 21,
   "id": "0ce0f345",
   "metadata": {
    "execution": {
     "iopub.execute_input": "2021-07-31T02:49:42.133258Z",
     "iopub.status.busy": "2021-07-31T02:49:42.132229Z",
     "iopub.status.idle": "2021-07-31T02:49:42.687533Z",
     "shell.execute_reply": "2021-07-31T02:49:42.688184Z",
     "shell.execute_reply.started": "2021-07-31T02:22:09.362046Z"
    },
    "papermill": {
     "duration": 0.601272,
     "end_time": "2021-07-31T02:49:42.688362",
     "exception": false,
     "start_time": "2021-07-31T02:49:42.087090",
     "status": "completed"
    },
    "tags": []
   },
   "outputs": [
    {
     "data": {
      "image/png": "[encoded data removed]",
      "text/plain": [
       "<Figure size 720x360 with 1 Axes>"
      ]
     },
     "metadata": {},
     "output_type": "display_data"
    }
   ],
   "source": [
    "plt.figure(figsize=(10,5))\n",
    "sns.barplot(data=choices_df, x='occurances', y='choice');\n",
    "plt.title('Whice choice got ordered most often for chicken bowl?');"
   ]
  },
  {
   "cell_type": "markdown",
   "id": "e0efe98e",
   "metadata": {
    "papermill": {
     "duration": 0.037476,
     "end_time": "2021-07-31T02:49:42.761008",
     "exception": false,
     "start_time": "2021-07-31T02:49:42.723532",
     "status": "completed"
    },
    "tags": []
   },
   "source": [
    "plot above shows the number of occurrances descendingly. Rice, cheese, lettuce, sour cream, and black beans were the most popular side choices when people order chicken bowl at chipotle. It might also indicate that for \n",
    "Chipotle, these 5 sides should be prepared and stored in inventory more than others so Chiptole always has enough to serve its customers."
   ]
  }
 ],
 "metadata": {
  "kernelspec": {
   "display_name": "Python 3",
   "language": "python",
   "name": "python3"
  },
  "language_info": {
   "codemirror_mode": {
    "name": "ipython",
    "version": 3
   },
   "file_extension": ".py",
   "mimetype": "text/x-python",
   "name": "python",
   "nbconvert_exporter": "python",
   "pygments_lexer": "ipython3",
   "version": "3.7.10"
  },
  "papermill": {
   "default_parameters": {},
   "duration": 14.782961,
   "end_time": "2021-07-31T02:49:43.505203",
   "environment_variables": {},
   "exception": null,
   "input_path": "__notebook__.ipynb",
   "output_path": "__notebook__.ipynb",
   "parameters": {},
   "start_time": "2021-07-31T02:49:28.722242",
   "version": "2.3.3"
  }
 },
 "nbformat": 4,
 "nbformat_minor": 5
}
